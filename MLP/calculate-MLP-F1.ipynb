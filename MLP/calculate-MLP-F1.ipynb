{
 "cells": [
  {
   "cell_type": "code",
   "execution_count": 1,
   "id": "adaptive-server",
   "metadata": {},
   "outputs": [],
   "source": [
    "import os\n",
    "import cv2\n",
    "import numpy as np\n",
    "import matplotlib.pyplot as plt\n",
    "import shutil\n",
    "import tqdm "
   ]
  },
  {
   "cell_type": "code",
   "execution_count": 2,
   "id": "floppy-immunology",
   "metadata": {},
   "outputs": [],
   "source": [
    "from sklearn.metrics import f1_score, precision_recall_curve\n"
   ]
  },
  {
   "cell_type": "code",
   "execution_count": 9,
   "id": "grave-toilet",
   "metadata": {},
   "outputs": [
    {
     "name": "stdout",
     "output_type": "stream",
     "text": [
      "['features_val_non-covid_ct_scan_32.pkl,1,1,-3.046,2.548', 'features_val_non-covid_ct_scan_134.pkl,1,1,-2.223,1.886', 'features_val_non-covid_ct_scan_193.pkl,1,1,-2.026,1.733', 'features_val_non-covid_ct_scan_156.pkl,1,1,-0.093,0.139', 'features_val_covid_ct_scan_3.pkl,0,0,4.302,-4.387', 'features_val_covid_ct_scan_68.pkl,0,0,1.167,-1.100', 'features_val_non-covid_ct_scan_55.pkl,1,1,-2.775,2.383', 'features_val_non-covid_ct_scan_50.pkl,1,1,-1.633,1.332', 'features_val_non-covid_ct_scan_173.pkl,1,1,-1.232,1.069', 'features_val_non-covid_ct_scan_84.pkl,1,1,-2.386,2.085']\n"
     ]
    }
   ],
   "source": [
    "result_file = 'validate_MLP_results.txt'\n",
    "fp = open(result_file)\n",
    "lines = fp.readlines() \n",
    "lines = [x.strip() for x in lines]\n",
    "fp.close()\n",
    "print(lines[:10])"
   ]
  },
  {
   "cell_type": "code",
   "execution_count": 11,
   "id": "refined-judges",
   "metadata": {},
   "outputs": [
    {
     "name": "stdout",
     "output_type": "stream",
     "text": [
      "0.9197860962566845 0.9179464677490127\n"
     ]
    }
   ],
   "source": [
    "y_true = []\n",
    "y_pred = [] \n",
    "y_prob = [] \n",
    "\n",
    "covid_ids = [] \n",
    "non_covid_ids = [] \n",
    "\n",
    "threshold = 0.5\n",
    "\n",
    "for l in lines: \n",
    "    l_splits = l.split(',') \n",
    "    #print(l_splits)\n",
    "    \n",
    "    #change covid class label to 1 \n",
    "    y_true.append(int(l_splits[1]))    \n",
    "        \n",
    "    prob0 = float(l_splits[3])\n",
    "    prob1 = float(l_splits[4])\n",
    "\n",
    "    score = np.exp(prob0)/(np.exp(prob0)+np.exp(prob1))\n",
    "    \n",
    "    pred2 = (score < threshold).astype(np.uint8)\n",
    "    \n",
    "    #y_pred.append(int(l_splits[2])) \n",
    "    y_pred.append(pred2) \n",
    "    y_prob.append(score)\n",
    "    \n",
    "    if pred2==0:\n",
    "        covid_ids.append(l_splits[0])\n",
    "    else: \n",
    "        non_covid_ids.append(l_splits[0])\n",
    "    \n",
    "y_pred = np.asarray(y_pred)\n",
    "y_true = np.asarray(y_true)\n",
    "y_prob = np.asarray(y_prob)\n",
    "\n",
    "F1_1 = f1_score(y_true, y_pred, average='micro')\n",
    "F1_2 = f1_score(y_true, y_pred, average='macro')\n",
    "print(F1_1,F1_2)"
   ]
  },
  {
   "cell_type": "code",
   "execution_count": 17,
   "id": "french-poetry",
   "metadata": {},
   "outputs": [],
   "source": [
    "fp = open('covid-MLP.csv','w')\n",
    "len_covid = len(covid_ids) \n",
    "for i in range(len_covid):\n",
    "    if i<len_covid-1:\n",
    "        fp.write('{},'.format(covid_ids[i]))\n",
    "    else:\n",
    "        fp.write('{}'.format(covid_ids[i]))\n",
    "fp.close() \n",
    "\n",
    "\n",
    "fp = open('non-covid-MLP.csv','w')\n",
    "len_non_covid = len(non_covid_ids) \n",
    "for i in range(len_non_covid):\n",
    "    if i<len_non_covid-1:\n",
    "        fp.write('{},'.format(non_covid_ids[i]))\n",
    "    else:\n",
    "        fp.write('{}'.format(non_covid_ids[i]))\n",
    "fp.close() \n",
    "\n"
   ]
  },
  {
   "cell_type": "code",
   "execution_count": null,
   "id": "positive-master",
   "metadata": {},
   "outputs": [],
   "source": []
  }
 ],
 "metadata": {
  "kernelspec": {
   "display_name": "Python 3",
   "language": "python",
   "name": "python3"
  },
  "language_info": {
   "codemirror_mode": {
    "name": "ipython",
    "version": 3
   },
   "file_extension": ".py",
   "mimetype": "text/x-python",
   "name": "python",
   "nbconvert_exporter": "python",
   "pygments_lexer": "ipython3",
   "version": "3.7.6"
  }
 },
 "nbformat": 4,
 "nbformat_minor": 5
}
