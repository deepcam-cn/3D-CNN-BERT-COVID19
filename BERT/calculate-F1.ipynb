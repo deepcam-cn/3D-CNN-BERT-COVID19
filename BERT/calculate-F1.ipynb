{
 "cells": [
  {
   "cell_type": "code",
   "execution_count": 1,
   "metadata": {},
   "outputs": [],
   "source": [
    "import os\n",
    "import cv2\n",
    "import numpy as np\n",
    "import matplotlib.pyplot as plt\n",
    "import shutil\n",
    "import tqdm "
   ]
  },
  {
   "cell_type": "code",
   "execution_count": 2,
   "metadata": {},
   "outputs": [],
   "source": [
    "import skimage, os\n",
    "from skimage.morphology import ball, disk, dilation,binary_dilation, binary_erosion, remove_small_objects, erosion, closing, reconstruction, binary_closing, binary_opening \n",
    "from skimage.measure import label,regionprops, perimeter\n",
    "from skimage.morphology import binary_dilation, binary_opening\n",
    "from skimage.filters import roberts, sobel\n",
    "from skimage import measure, feature\n",
    "from skimage.segmentation import clear_border, mark_boundaries\n",
    "from skimage import data\n",
    "from scipy import ndimage as ndi\n",
    "import matplotlib.pyplot as plt\n",
    "from mpl_toolkits.mplot3d.art3d import Poly3DCollection\n",
    "import scipy.misc\n",
    "from glob import glob\n",
    "from skimage.io import imread\n"
   ]
  },
  {
   "cell_type": "code",
   "execution_count": 3,
   "metadata": {},
   "outputs": [],
   "source": [
    "from sklearn.metrics import f1_score, precision_recall_curve\n"
   ]
  },
  {
   "cell_type": "code",
   "execution_count": 4,
   "metadata": {},
   "outputs": [
    {
     "name": "stdout",
     "output_type": "stream",
     "text": [
      "['val/covid/ct_scan_0 0 0 3.284743547439575 -3.7598319053649902', 'val/covid/ct_scan_1 0 0 3.284743547439575 -3.7598319053649902', 'val/covid/ct_scan_2 0 0 3.284743547439575 -3.7598319053649902', 'val/covid/ct_scan_3 0 0 3.284743547439575 -3.7598319053649902', 'val/covid/ct_scan_4 0 0 3.1232383251190186 -3.335204839706421', 'val/covid/ct_scan_5 0 0 3.1232383251190186 -3.335204839706421', 'val/covid/ct_scan_6 0 0 3.1232383251190186 -3.335204839706421', 'val/covid/ct_scan_7 0 0 3.1232383251190186 -3.335204839706421', 'val/covid/ct_scan_8 0 0 3.3306257724761963 -3.698113441467285', 'val/covid/ct_scan_9 1 0 3.3306257724761963 -3.698113441467285']\n"
     ]
    }
   ],
   "source": [
    "result_file = 'validation_results_split5.txt'\n",
    "fp = open(result_file)\n",
    "lines = fp.readlines() \n",
    "lines = [x.strip() for x in lines]\n",
    "fp.close()\n",
    "print(lines[:10])"
   ]
  },
  {
   "cell_type": "code",
   "execution_count": 5,
   "metadata": {},
   "outputs": [],
   "source": [
    "y_true = []\n",
    "y_pred = [] \n",
    "y_prob = [] \n",
    "\n",
    "for l in lines: \n",
    "    l_splits = l.split() \n",
    "    #print(l_splits)\n",
    "    \n",
    "    #change covid class label to 1 \n",
    "    y_pred.append(1-int(l_splits[1])) \n",
    "    y_true.append(1-int(l_splits[2]))\n",
    "    \n",
    "    prob0 = float(l_splits[3])\n",
    "    prob1 = float(l_splits[4])\n",
    "\n",
    "    score = np.exp(prob0)/(np.exp(prob0)+np.exp(prob1))\n",
    "\n",
    "    y_prob.append(score)\n"
   ]
  },
  {
   "cell_type": "code",
   "execution_count": 6,
   "metadata": {},
   "outputs": [],
   "source": [
    "y_pred = np.asarray(y_pred)\n",
    "y_true = np.asarray(y_true)\n",
    "y_prob = np.asarray(y_prob)"
   ]
  },
  {
   "cell_type": "code",
   "execution_count": 7,
   "metadata": {},
   "outputs": [
    {
     "name": "stdout",
     "output_type": "stream",
     "text": [
      "0.9117647058823528 0.9099564446584518\n"
     ]
    }
   ],
   "source": [
    "F1_1 = f1_score(y_true, y_pred, average='micro')\n",
    "F1_2 = f1_score(y_true, y_pred, average='macro')\n",
    "print(F1_1,F1_2)"
   ]
  },
  {
   "cell_type": "code",
   "execution_count": 8,
   "metadata": {},
   "outputs": [
    {
     "name": "stdout",
     "output_type": "stream",
     "text": [
      "144 12 21 197\n",
      "0.9230769230769231 0.8727272727272727 0.897196261682243\n"
     ]
    }
   ],
   "source": [
    "TP = 0\n",
    "FP = 0 \n",
    "FN = 0 \n",
    "TN = 0 \n",
    "for t,p in zip(y_true,y_pred):    \n",
    "    #print(t,p)    \n",
    "    if t==1 and p==1:\n",
    "        TP +=1 \n",
    "    elif t==1 and p==0:\n",
    "        FN +=1 \n",
    "    elif t==0 and p ==1: \n",
    "        FP +=1 \n",
    "    elif t==0 and p==0:\n",
    "        TN +=1 \n",
    "precision = TP/(TP+FP)        \n",
    "recall    = TP/(TP+FN) \n",
    "\n",
    "F1 = 2*precision*recall/(precision+recall)        \n",
    "print(TP,FP,FN,TN)        \n",
    "print(precision,recall,F1)    \n"
   ]
  },
  {
   "cell_type": "code",
   "execution_count": 9,
   "metadata": {},
   "outputs": [],
   "source": [
    "precision, recall, thresholds = precision_recall_curve(y_true, y_prob)"
   ]
  },
  {
   "cell_type": "code",
   "execution_count": 10,
   "metadata": {},
   "outputs": [
    {
     "name": "stdout",
     "output_type": "stream",
     "text": [
      "164 164 163\n"
     ]
    }
   ],
   "source": [
    "print(len(precision),len(recall),len(thresholds))"
   ]
  },
  {
   "cell_type": "code",
   "execution_count": 11,
   "metadata": {},
   "outputs": [],
   "source": [
    "f1s = [] \n",
    "for i in range(len(recall)):\n",
    "    f1 = 2*precision[i]*recall[i]/(precision[i]+recall[i])\n",
    "    f1s.append(f1)\n"
   ]
  },
  {
   "cell_type": "code",
   "execution_count": 12,
   "metadata": {},
   "outputs": [
    {
     "data": {
      "text/plain": [
       "0.8698412698412699"
      ]
     },
     "execution_count": 12,
     "metadata": {},
     "output_type": "execute_result"
    }
   ],
   "source": [
    "max(f1s)"
   ]
  },
  {
   "cell_type": "code",
   "execution_count": 13,
   "metadata": {},
   "outputs": [
    {
     "name": "stdout",
     "output_type": "stream",
     "text": [
      "['val_covid_ct_scan_0 0 0 0 0 0 0', 'val_covid_ct_scan_1 0 0 0 0 0 0', 'val_covid_ct_scan_2 0 1', 'val_covid_ct_scan_3 0 0', 'val_covid_ct_scan_4 0 0 1', 'val_covid_ct_scan_5 0 0 0 0 0 0', 'val_covid_ct_scan_6 0 0 0 0 0 0 0', 'val_covid_ct_scan_7 0 0', 'val_covid_ct_scan_8 0 0', 'val_covid_ct_scan_9 0 0 0 0 0 1']\n"
     ]
    }
   ],
   "source": [
    "result_file = 'scripts/eval3/val_predictions.txt'\n",
    "fp = open(result_file)\n",
    "lines = fp.readlines() \n",
    "lines = [x.strip() for x in lines]\n",
    "fp.close()\n",
    "print(lines[:10])"
   ]
  },
  {
   "cell_type": "code",
   "execution_count": 40,
   "metadata": {},
   "outputs": [],
   "source": [
    "y_true = []\n",
    "y_pred = [] \n",
    "\n",
    "for l in lines: \n",
    "    l_splits = l.split() \n",
    "    #print(l_splits)\n",
    "    \n",
    "    scan_id = l_splits[0]\n",
    "    \n",
    "    #print(scan_id)\n",
    "    \n",
    "    if 'non-covid' in scan_id:\n",
    "        true = 1\n",
    "    else:\n",
    "        true = 0 \n",
    "        \n",
    "    #print(true)    \n",
    "        \n",
    "    preds = [] \n",
    "    for i in range(2, len(l_splits)):\n",
    "        pred = int(l_splits[i])\n",
    "        preds.append(pred)\n",
    "    \n",
    "    preds = np.asarray(preds)\n",
    "          \n",
    "    #print(preds)    \n",
    "    #print(preds==0)\n",
    "    #print(np.sum(preds==0))\n",
    "    \n",
    "    if np.sum(preds==0) >= len(preds)/2: \n",
    "        pred = 0\n",
    "    else:\n",
    "        pred = 1 \n",
    "        \n",
    "       \n",
    "    #change covid class label to 1 \n",
    "    y_pred.append(1-pred) \n",
    "    y_true.append(1-true)\n",
    "        "
   ]
  },
  {
   "cell_type": "code",
   "execution_count": 41,
   "metadata": {},
   "outputs": [
    {
     "name": "stdout",
     "output_type": "stream",
     "text": [
      "0.8903743315508021 0.8882972136222911\n"
     ]
    }
   ],
   "source": [
    "F1_1 = f1_score(y_true, y_pred, average='micro')\n",
    "F1_2 = f1_score(y_true, y_pred, average='macro')\n",
    "print(F1_1,F1_2)"
   ]
  },
  {
   "cell_type": "code",
   "execution_count": null,
   "metadata": {},
   "outputs": [],
   "source": []
  }
 ],
 "metadata": {
  "kernelspec": {
   "display_name": "Python 3",
   "language": "python",
   "name": "python3"
  },
  "language_info": {
   "codemirror_mode": {
    "name": "ipython",
    "version": 3
   },
   "file_extension": ".py",
   "mimetype": "text/x-python",
   "name": "python",
   "nbconvert_exporter": "python",
   "pygments_lexer": "ipython3",
   "version": "3.7.6"
  }
 },
 "nbformat": 4,
 "nbformat_minor": 5
}
