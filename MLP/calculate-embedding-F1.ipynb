{
 "cells": [
  {
   "cell_type": "code",
   "execution_count": 4,
   "id": "greenhouse-greeting",
   "metadata": {},
   "outputs": [],
   "source": [
    "import os\n",
    "import cv2\n",
    "import numpy as np\n",
    "import matplotlib.pyplot as plt\n",
    "import shutil\n",
    "import tqdm "
   ]
  },
  {
   "cell_type": "code",
   "execution_count": 5,
   "id": "aggregate-neighborhood",
   "metadata": {},
   "outputs": [],
   "source": [
    "from sklearn.metrics import f1_score, precision_recall_curve\n"
   ]
  },
  {
   "cell_type": "code",
   "execution_count": 6,
   "id": "capital-annotation",
   "metadata": {},
   "outputs": [
    {
     "name": "stdout",
     "output_type": "stream",
     "text": [
      "['val_covid_ct_scan_0,0,0,2.465393304824829,-2.1594154834747314,0,2.4482500553131104,-2.132641315460205,0,2.489469528198242,-2.1809892654418945,0,2.4387567043304443,-2.1386044025421143,0,2.2616212368011475,-2.122927665710449', 'val_covid_ct_scan_1,0,0,2.333075761795044,-2.217953681945801,0,2.302870988845825,-2.1831448078155518,0,2.3354077339172363,-2.1722476482391357,0,2.261728525161743,-2.178154468536377,0,1.8503494262695312,-1.861374855041504', 'val_covid_ct_scan_2,0,0,0.5681214332580566,-0.9391226768493652', 'val_covid_ct_scan_3,0,0,2.2389771938323975,-2.0930824279785156', 'val_covid_ct_scan_4,0,0,2.1063385009765625,-2.0496203899383545,0,2.1194629669189453,-2.070901393890381', 'val_covid_ct_scan_5,0,0,2.031270742416382,-2.0061323642730713,0,1.9994810819625854,-2.0244393348693848,0,2.121622085571289,-2.0909082889556885,0,2.0387184619903564,-2.0668795108795166,0,0.5567721128463745,-0.7442511916160583', 'val_covid_ct_scan_6,0,0,2.767399311065674,-2.4639060497283936,0,2.846067428588867,-2.524158477783203,0,2.8220462799072266,-2.5169856548309326,0,2.817932367324829,-2.4871225357055664,0,2.7461791038513184,-2.4382498264312744,0,2.880617141723633,-2.5312085151672363', 'val_covid_ct_scan_7,0,0,2.8186066150665283,-2.505141496658325', 'val_covid_ct_scan_8,0,0,2.1478426456451416,-1.942548155784607', 'val_covid_ct_scan_9,0,0,1.7408347129821777,-1.7894783020019531,0,1.6955903768539429,-1.6719294786453247,0,1.880887746810913,-1.8170632123947144,0,1.9541047811508179,-1.949385166168213,1,-0.2783281207084656,0.6327280402183533']\n"
     ]
    }
   ],
   "source": [
    "result_file = 'val_emdedding_results_047_97.330729_90.909091.txt'\n",
    "fp = open(result_file)\n",
    "lines = fp.readlines() \n",
    "lines = [x.strip() for x in lines]\n",
    "fp.close()\n",
    "print(lines[:10])"
   ]
  },
  {
   "cell_type": "code",
   "execution_count": 9,
   "id": "moving-fifty",
   "metadata": {},
   "outputs": [
    {
     "name": "stdout",
     "output_type": "stream",
     "text": [
      "374 374\n",
      "0.9171122994652406 0.9149968840500018\n"
     ]
    }
   ],
   "source": [
    "y_true = []\n",
    "y_pred = [] \n",
    "y_prob = [] \n",
    "\n",
    "threshold = 0.3 \n",
    "\n",
    "covid_ids = [] \n",
    "non_covid_ids = [] \n",
    "\n",
    "for l in lines: \n",
    "    l_splits = l.split(',') \n",
    "    #print(l_splits)    \n",
    "    #change covid class label to 1 \n",
    "    true = int(l_splits[1])\n",
    "    y_true.append(true)\n",
    "    \n",
    "    num_preds = int((len(l_splits)-2)/3)\n",
    "    prob0s = [] \n",
    "    preds = [] \n",
    "    for i in range(num_preds):        \n",
    "        pred = int(l_splits[2+3*i])        \n",
    "        s0 = float(l_splits[2+3*i+1])\n",
    "        s1 = float(l_splits[2+3*i+2])        \n",
    "        prob0 = np.exp(s0)/(np.exp(s0)+np.exp(s1)) \n",
    "        preds.append(pred)\n",
    "        prob0s.append(prob0)\n",
    "       \n",
    "    \n",
    "    prob0s = np.asarray(prob0s)    \n",
    "    prob0s_avg = np.mean(prob0s)    \n",
    "    pred2 = (prob0s_avg < threshold).astype(np.uint8) \n",
    "    #print(true, pred2, preds, prob0s)\n",
    "    y_pred.append(pred2) \n",
    "    y_prob.append(prob0s_avg)   \n",
    "    #input('dbg')\n",
    "    \n",
    "    if pred2==0:\n",
    "        covid_ids.append(l_splits[0])\n",
    "    else: \n",
    "        non_covid_ids.append(l_splits[0])\n",
    "    \n",
    "    \n",
    "y_pred = np.asarray(y_pred)\n",
    "y_true = np.asarray(y_true)\n",
    "y_prob = np.asarray(y_prob)\n",
    "\n",
    "print(len(y_true),len(y_pred))\n",
    "\n",
    "F1_1 = f1_score(y_true, y_pred, average='micro')\n",
    "F1_2 = f1_score(y_true, y_pred, average='macro')\n",
    "print(F1_1,F1_2)"
   ]
  },
  {
   "cell_type": "code",
   "execution_count": 48,
   "id": "considered-colony",
   "metadata": {},
   "outputs": [],
   "source": [
    "fp = open('covid-embedding.csv','w')\n",
    "len_covid = len(covid_ids) \n",
    "for i in range(len_covid):\n",
    "    if i<len_covid-1:\n",
    "        fp.write('{},'.format(covid_ids[i]))\n",
    "    else:\n",
    "        fp.write('{}'.format(covid_ids[i]))\n",
    "fp.close() \n",
    "\n",
    "\n",
    "fp = open('non-covid-embedding.csv','w')\n",
    "len_non_covid = len(non_covid_ids) \n",
    "for i in range(len_non_covid):\n",
    "    if i<len_non_covid-1:\n",
    "        fp.write('{},'.format(non_covid_ids[i]))\n",
    "    else:\n",
    "        fp.write('{}'.format(non_covid_ids[i]))\n",
    "fp.close() "
   ]
  },
  {
   "cell_type": "code",
   "execution_count": null,
   "id": "suited-oakland",
   "metadata": {},
   "outputs": [],
   "source": []
  }
 ],
 "metadata": {
  "kernelspec": {
   "display_name": "Python 3",
   "language": "python",
   "name": "python3"
  },
  "language_info": {
   "codemirror_mode": {
    "name": "ipython",
    "version": 3
   },
   "file_extension": ".py",
   "mimetype": "text/x-python",
   "name": "python",
   "nbconvert_exporter": "python",
   "pygments_lexer": "ipython3",
   "version": "3.7.6"
  }
 },
 "nbformat": 4,
 "nbformat_minor": 5
}
